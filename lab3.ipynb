{
 "cells": [
  {
   "cell_type": "markdown",
   "id": "e1cf7487",
   "metadata": {},
   "source": [
    "Równanie Schroedingera zależne od czasu\n",
    "\n",
    "kappa = 1\n",
    "omega = różnica między poziomami -> mamy rezonans\n",
    "\n",
    "wypisać energię całkowitą i normy E=4.93 -> co 100 kroków\n",
    "\n",
    "\n",
    "\n",
    "kappa = 1\n",
    "dla n = 1 wstawić omegę wartości rezonansowej 3pi^2 /2\n",
    "energia: 19.72\n",
    "\n",
    "\n",
    "\n",
    "znaleźć maksimum\n",
    "wykres energia(omega/omega0)"
   ]
  },
  {
   "cell_type": "code",
   "execution_count": 1,
   "id": "3be466b7",
   "metadata": {},
   "outputs": [],
   "source": [
    "import numpy as np\n",
    "import matplotlib.pyplot as plt\n",
    "from matplotlib.animation import FuncAnimation\n",
    "import math\n",
    "import random\n",
    "\n",
    "import time\n",
    "from numba import jit, types\n",
    "from numba.extending import overload, register_jitable\n",
    "from numba.core.errors import TypingError\n",
    "\n",
    "import gc"
   ]
  },
  {
   "cell_type": "code",
   "execution_count": 2,
   "id": "00ee0b72",
   "metadata": {},
   "outputs": [
    {
     "name": "stdout",
     "output_type": "stream",
     "text": [
      "[0.         0.04442152 0.0887992  0.13308925 0.17724796 0.22123174\n",
      " 0.2649972  0.30850113 0.35170061 0.39455301 0.43701602 0.47904776\n",
      " 0.52060674 0.56165193 0.60214285 0.64203952 0.68130258 0.71989327\n",
      " 0.75777352 0.79490594 0.83125388 0.86678147 0.90145365 0.93523621\n",
      " 0.9680958  1.         1.03091732 1.06081725 1.08967028 1.11744793\n",
      " 1.14412281 1.16966857 1.19406    1.21727305 1.23928479 1.26007351\n",
      " 1.27961869 1.29790104 1.31490252 1.33060634 1.34499702 1.35806035\n",
      " 1.36978344 1.38015472 1.38916395 1.39680225 1.40306207 1.40793723\n",
      " 1.41142293 1.41351573 1.41421356 1.41351573 1.41142293 1.40793723\n",
      " 1.40306207 1.39680225 1.38916395 1.38015472 1.36978344 1.35806035\n",
      " 1.34499702 1.33060634 1.31490252 1.29790104 1.27961869 1.26007351\n",
      " 1.23928479 1.21727305 1.19406    1.16966857 1.14412281 1.11744793\n",
      " 1.08967028 1.06081725 1.03091732 1.         0.9680958  0.93523621\n",
      " 0.90145365 0.86678147 0.83125388 0.79490594 0.75777352 0.71989327\n",
      " 0.68130258 0.64203952 0.60214285 0.56165193 0.52060674 0.47904776\n",
      " 0.43701602 0.39455301 0.35170061 0.30850113 0.2649972  0.22123174\n",
      " 0.17724796 0.13308925 0.0887992  0.04442152 0.        ]\n",
      "[0. 0. 0. 0. 0. 0. 0. 0. 0. 0. 0. 0. 0. 0. 0. 0. 0. 0. 0. 0. 0. 0. 0. 0.\n",
      " 0. 0. 0. 0. 0. 0. 0. 0. 0. 0. 0. 0. 0. 0. 0. 0. 0. 0. 0. 0. 0. 0. 0. 0.\n",
      " 0. 0. 0. 0. 0. 0. 0. 0. 0. 0. 0. 0. 0. 0. 0. 0. 0. 0. 0. 0. 0. 0. 0. 0.\n",
      " 0. 0. 0. 0. 0. 0. 0. 0. 0. 0. 0. 0. 0. 0. 0. 0. 0. 0. 0. 0. 0. 0. 0. 0.\n",
      " 0. 0. 0. 0. 0.]\n"
     ]
    }
   ],
   "source": [
    "N = 100\n",
    "\n",
    "xmin = 0\n",
    "xmax = 1\n",
    "delta_x = 1/N\n",
    "\n",
    "delta_t = 0.001\n",
    "\n",
    "S = 500000 # ilość kroków\n",
    "\n",
    "N = N+1\n",
    "\n",
    "n = 1\n",
    "# kappa = 1\n",
    "# omega = 3*pow(np.pi,2)/2\n",
    "kappa = 0\n",
    "omega = 0\n",
    "\n",
    "tau = 0\n",
    "\n",
    "x_k = np.linspace(xmin, xmax, N)\n",
    "\n",
    "psiR_pocz = np.sqrt(2)*np.sin(n*math.pi*x_k)\n",
    "psiR_pocz[N-1] = 0\n",
    "\n",
    "psiI_pocz = np.zeros(N)\n",
    "\n",
    "print(psiR_pocz)\n",
    "print(psiI_pocz)"
   ]
  },
  {
   "cell_type": "code",
   "execution_count": 3,
   "id": "195f94ae",
   "metadata": {},
   "outputs": [
    {
     "name": "stdout",
     "output_type": "stream",
     "text": [
      "Norm: 1.0\tE= 0.0004934396342684408\n",
      "Norm: 0.9999999999999852\tE= 0.0004934396342684467\n",
      "Norm: 0.9999999999999901\tE= 0.0004934396342684269\n",
      "Norm: 0.9999999999999991\tE= 0.0004934396342684466\n",
      "Norm: 1.0000000000000104\tE= 0.0004934396342684553\n"
     ]
    }
   ],
   "source": [
    "psiR = psiR_pocz\n",
    "psiI = psiI_pocz\n",
    "\n",
    "H_R = np.zeros(int(N))\n",
    "H_I = np.zeros(int(N))\n",
    "\n",
    "\n",
    "def hamiltonian(psi_rzecz, psi_ur):\n",
    "    H_kR = np.zeros(int(N))\n",
    "    H_kI = np.zeros(int(N))\n",
    "    for k in range(1, int(N-1), 1):\n",
    "        H_kR[k] = -0.5*(psi_rzecz[k+1]+psi_rzecz[k-1]-2*psi_rzecz[k]) + kappa*(x_k[k]-0.5)*psi_rzecz[k]*np.sin(omega*tau)\n",
    "        H_kI[k] = -0.5*(psi_ur[k+1]+psi_ur[k-1]-2*psi_ur[k]) + kappa*(x_k[k]-0.5)*psi_ur[k]*np.sin(omega*tau)\n",
    "    return H_kR, H_kI\n",
    "        \n",
    "H_R, H_I = hamiltonian(psiR, psiI)\n",
    "\n",
    "# print(H_R)\n",
    "# print(H_I)\n",
    "    \n",
    "for s in range(S):\n",
    "    psiR = psiR + H_I*delta_t/2\n",
    "    H_R, H_I = hamiltonian(psiR, psiI)\n",
    "    # print(H_R)\n",
    "#     print(\"PSI_I\")\n",
    "#     print(psiI)\n",
    "    psiI = psiI - H_R*delta_t       \n",
    "    H_R, H_I = hamiltonian(psiR, psiI)\n",
    "    psiR = psiR + H_I*delta_t/2\n",
    "    H_R, H_I = hamiltonian(psiR, psiI)\n",
    "    tau = tau + delta_t\n",
    "    \n",
    "    if s % 100000 == 0:\n",
    "        norm = 0.\n",
    "        E = 0.\n",
    "        for i in range(N):\n",
    "            norm = norm + delta_x*(pow(psiR[i],2)+pow(psiI[i],2))\n",
    "            E = E + delta_x*(psiR[i]*H_R[i]+psiI[i]*H_I[i])\n",
    "        # print(\"Norm: \" + str(norm) + \"\\t\"+ \"E= \" + str('%.2E' % E))\n",
    "        print(\"Norm: \" + str(norm) + \"\\t\"+ \"E= \" + str(E))\n"
   ]
  },
  {
   "cell_type": "code",
   "execution_count": 4,
   "id": "dcc0f11f",
   "metadata": {},
   "outputs": [
    {
     "data": {
      "text/plain": [
       "0"
      ]
     },
     "execution_count": 4,
     "metadata": {},
     "output_type": "execute_result"
    }
   ],
   "source": [
    "gc.collect()"
   ]
  },
  {
   "cell_type": "code",
   "execution_count": null,
   "id": "bdfd6119",
   "metadata": {},
   "outputs": [],
   "source": []
  },
  {
   "cell_type": "code",
   "execution_count": null,
   "id": "fa655de4-59d5-480d-aaad-799a98626652",
   "metadata": {},
   "outputs": [],
   "source": []
  },
  {
   "cell_type": "code",
   "execution_count": null,
   "id": "d4161f51-77ae-468b-be47-558033615d4a",
   "metadata": {},
   "outputs": [],
   "source": []
  }
 ],
 "metadata": {
  "kernelspec": {
   "display_name": "Python 3 (ipykernel)",
   "language": "python",
   "name": "python3"
  },
  "language_info": {
   "codemirror_mode": {
    "name": "ipython",
    "version": 3
   },
   "file_extension": ".py",
   "mimetype": "text/x-python",
   "name": "python",
   "nbconvert_exporter": "python",
   "pygments_lexer": "ipython3",
   "version": "3.9.7"
  }
 },
 "nbformat": 4,
 "nbformat_minor": 5
}
